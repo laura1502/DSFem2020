{
  "nbformat": 4,
  "nbformat_minor": 0,
  "metadata": {
    "colab": {
      "name": "Copia de Taller 2.ipynb",
      "provenance": []
    },
    "kernelspec": {
      "name": "python3",
      "display_name": "Python 3"
    }
  },
  "cells": [
    {
      "cell_type": "code",
      "metadata": {
        "id": "4SziFaSMJJJX",
        "colab_type": "code",
        "outputId": "73423404-52b7-4758-8d3f-4f503ae6b3c8",
        "colab": {
          "base_uri": "https://localhost:8080/",
          "height": 122
        }
      },
      "source": [
        "from google.colab import drive\n",
        "drive.mount('/content/drive')\n"
      ],
      "execution_count": 0,
      "outputs": [
        {
          "output_type": "stream",
          "text": [
            "Go to this URL in a browser: https://accounts.google.com/o/oauth2/auth?client_id=947318989803-6bn6qk8qdgf4n4g3pfee6491hc0brc4i.apps.googleusercontent.com&redirect_uri=urn%3aietf%3awg%3aoauth%3a2.0%3aoob&response_type=code&scope=email%20https%3a%2f%2fwww.googleapis.com%2fauth%2fdocs.test%20https%3a%2f%2fwww.googleapis.com%2fauth%2fdrive%20https%3a%2f%2fwww.googleapis.com%2fauth%2fdrive.photos.readonly%20https%3a%2f%2fwww.googleapis.com%2fauth%2fpeopleapi.readonly\n",
            "\n",
            "Enter your authorization code:\n",
            "··········\n",
            "Mounted at /content/drive\n"
          ],
          "name": "stdout"
        }
      ]
    },
    {
      "cell_type": "code",
      "metadata": {
        "id": "K7yD0ZvKJbRY",
        "colab_type": "code",
        "colab": {}
      },
      "source": [
        "import pandas as pd\n",
        "import matplotlib.pyplot as plt\n"
      ],
      "execution_count": 0,
      "outputs": []
    },
    {
      "cell_type": "code",
      "metadata": {
        "id": "Dadp9o6qKMRm",
        "colab_type": "code",
        "colab": {}
      },
      "source": [
        "Se lee el archovo con la función read_csv de pandas"
      ],
      "execution_count": 0,
      "outputs": []
    },
    {
      "cell_type": "code",
      "metadata": {
        "id": "-XH-yfWzJuKU",
        "colab_type": "code",
        "colab": {}
      },
      "source": [
        "women_degrees=pd.read_csv('percent-bachelors-degrees-women-usa.csv')"
      ],
      "execution_count": 0,
      "outputs": []
    },
    {
      "cell_type": "code",
      "metadata": {
        "id": "XsKonA4vKS1d",
        "colab_type": "code",
        "colab": {}
      },
      "source": [
        "women_degrees.describe()"
      ],
      "execution_count": 0,
      "outputs": []
    },
    {
      "cell_type": "code",
      "metadata": {
        "id": "MvtOVIDiKqzv",
        "colab_type": "code",
        "outputId": "9d7b39ae-b485-428c-f86b-83e7a0795ddd",
        "colab": {
          "base_uri": "https://localhost:8080/",
          "height": 182
        }
      },
      "source": [
        "#vamos a graficar ciencia, tecnología, ingeniería y matemáticas\n",
        "women_degrees.head(2)\n"
      ],
      "execution_count": 0,
      "outputs": [
        {
          "output_type": "execute_result",
          "data": {
            "text/html": [
              "<div>\n",
              "<style scoped>\n",
              "    .dataframe tbody tr th:only-of-type {\n",
              "        vertical-align: middle;\n",
              "    }\n",
              "\n",
              "    .dataframe tbody tr th {\n",
              "        vertical-align: top;\n",
              "    }\n",
              "\n",
              "    .dataframe thead th {\n",
              "        text-align: right;\n",
              "    }\n",
              "</style>\n",
              "<table border=\"1\" class=\"dataframe\">\n",
              "  <thead>\n",
              "    <tr style=\"text-align: right;\">\n",
              "      <th></th>\n",
              "      <th>Year</th>\n",
              "      <th>Agriculture</th>\n",
              "      <th>Architecture</th>\n",
              "      <th>Art and Performance</th>\n",
              "      <th>Biology</th>\n",
              "      <th>Business</th>\n",
              "      <th>Communications and Journalism</th>\n",
              "      <th>Computer Science</th>\n",
              "      <th>Education</th>\n",
              "      <th>Engineering</th>\n",
              "      <th>English</th>\n",
              "      <th>Foreign Languages</th>\n",
              "      <th>Health Professions</th>\n",
              "      <th>Math and Statistics</th>\n",
              "      <th>Physical Sciences</th>\n",
              "      <th>Psychology</th>\n",
              "      <th>Public Administration</th>\n",
              "      <th>Social Sciences and History</th>\n",
              "    </tr>\n",
              "  </thead>\n",
              "  <tbody>\n",
              "    <tr>\n",
              "      <th>0</th>\n",
              "      <td>1970</td>\n",
              "      <td>4.229798</td>\n",
              "      <td>11.921005</td>\n",
              "      <td>59.7</td>\n",
              "      <td>29.088363</td>\n",
              "      <td>9.064439</td>\n",
              "      <td>35.3</td>\n",
              "      <td>13.6</td>\n",
              "      <td>74.535328</td>\n",
              "      <td>0.8</td>\n",
              "      <td>65.570923</td>\n",
              "      <td>73.8</td>\n",
              "      <td>77.1</td>\n",
              "      <td>38.0</td>\n",
              "      <td>13.8</td>\n",
              "      <td>44.4</td>\n",
              "      <td>68.4</td>\n",
              "      <td>36.8</td>\n",
              "    </tr>\n",
              "    <tr>\n",
              "      <th>1</th>\n",
              "      <td>1971</td>\n",
              "      <td>5.452797</td>\n",
              "      <td>12.003106</td>\n",
              "      <td>59.9</td>\n",
              "      <td>29.394403</td>\n",
              "      <td>9.503187</td>\n",
              "      <td>35.5</td>\n",
              "      <td>13.6</td>\n",
              "      <td>74.149204</td>\n",
              "      <td>1.0</td>\n",
              "      <td>64.556485</td>\n",
              "      <td>73.9</td>\n",
              "      <td>75.5</td>\n",
              "      <td>39.0</td>\n",
              "      <td>14.9</td>\n",
              "      <td>46.2</td>\n",
              "      <td>65.5</td>\n",
              "      <td>36.2</td>\n",
              "    </tr>\n",
              "  </tbody>\n",
              "</table>\n",
              "</div>"
            ],
            "text/plain": [
              "   Year  Agriculture  ...  Public Administration  Social Sciences and History\n",
              "0  1970     4.229798  ...                   68.4                         36.8\n",
              "1  1971     5.452797  ...                   65.5                         36.2\n",
              "\n",
              "[2 rows x 18 columns]"
            ]
          },
          "metadata": {
            "tags": []
          },
          "execution_count": 15
        }
      ]
    },
    {
      "cell_type": "code",
      "metadata": {
        "id": "FdDbYvg4NWS3",
        "colab_type": "code",
        "outputId": "feea2923-3ca7-437c-cd8c-f893bcdc116d",
        "colab": {
          "base_uri": "https://localhost:8080/",
          "height": 269
        }
      },
      "source": [
        "plt.plot(women_degrees[\"Year\"],women_degrees[\"Computer Science\"],color='blue',label='ninas')\n",
        "plt.plot(women_degrees[\"Year\"],100-women_degrees[\"Computer Science\"],color='green',label='ninos')\n",
        "plt.show()"
      ],
      "execution_count": 0,
      "outputs": [
        {
          "output_type": "display_data",
          "data": {
            "image/png": "[encoded data removed]",
            "text/plain": [
              "<Figure size 432x288 with 1 Axes>"
            ]
          },
          "metadata": {
            "tags": []
          }
        }
      ]
    },
    {
      "cell_type": "code",
      "metadata": {
        "id": "7nPHSz0OOknp",
        "colab_type": "code",
        "outputId": "274dba87-b810-4c08-dfd3-8230df9f6108",
        "colab": {
          "base_uri": "https://localhost:8080/",
          "height": 283
        }
      },
      "source": [
        "plt.plot(women_degrees[\"Year\"],women_degrees[\"Engineering\"],color='blue',label='ninas')\n",
        "plt.plot(women_degrees[\"Year\"],100-women_degrees[\"Engineering\"],color='green',label='ninos')\n",
        "plt.title(\"PORCENTAJE DE GRADUDADOS DE INGENIERÍA POR GENERO\")\n",
        "plt.legend(loc=\"upper right\")\n",
        "plt.tick_params(bottom=\"off\",top=\"off\",left=\"off\",right=\"off\") #revisar que hacen estos parametros\n",
        "plt.show()\n"
      ],
      "execution_count": 0,
      "outputs": [
        {
          "output_type": "display_data",
          "data": {
            "image/png": "[encoded data removed]",
            "text/plain": [
              "<Figure size 432x288 with 1 Axes>"
            ]
          },
          "metadata": {
            "tags": []
          }
        }
      ]
    },
    {
      "cell_type": "code",
      "metadata": {
        "id": "yr8I_NFbQLEZ",
        "colab_type": "code",
        "outputId": "c2e6ef4c-fb19-46e2-f290-20de56951105",
        "colab": {
          "base_uri": "https://localhost:8080/",
          "height": 283
        }
      },
      "source": [
        "plt.plot(women_degrees[\"Year\"],women_degrees[\"Math and Statistics\"],color='blue',label='ninas')\n",
        "plt.plot(women_degrees[\"Year\"],100-women_degrees[\"Math and Statistics\"],color='green',label='ninos')\n",
        "plt.title(\"PORCENTAJE DE GRADUDADOS DE INGENIERÍA POR GENERO\")\n",
        "plt.legend(loc=\"upper right\")\n",
        "plt.tick_params(bottom=\"off\",top=\"off\",left=\"off\",right=\"off\") #revisar que hacen estos parametros\n",
        "plt.show()\n"
      ],
      "execution_count": 0,
      "outputs": [
        {
          "output_type": "display_data",
          "data": {
            "image/png": "[encoded data removed]",
            "text/plain": [
              "<Figure size 432x288 with 1 Axes>"
            ]
          },
          "metadata": {
            "tags": []
          }
        }
      ]
    },
    {
      "cell_type": "markdown",
      "metadata": {
        "id": "9vXYjl6RQ8sS",
        "colab_type": "text"
      },
      "source": [
        "Se evidencia en cada gráfico por genero una diferencia grande entre las líneas. Se puede concluir que existe una brecha generacional. \n",
        "Tendencia: mayoría de hombres en estos campos. "
      ]
    }
  ]
}